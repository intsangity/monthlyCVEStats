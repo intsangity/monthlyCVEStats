{
 "cells": [
  {
   "cell_type": "markdown",
   "id": "excellent-edmonton",
   "metadata": {},
   "source": [
    "# 2021 CVE Data Review"
   ]
  },
  {
   "cell_type": "markdown",
   "id": "breeding-double",
   "metadata": {},
   "source": [
    "This notebook will pull all [JSON Data](https://nvd.nist.gov/vuln/data-feeds#JSON_FEED) from the NVD and performs some basic data analysis of CVEd data. "
   ]
  },
  {
   "cell_type": "markdown",
   "id": "flying-teens",
   "metadata": {},
   "source": [
    "## Getting Started"
   ]
  },
  {
   "cell_type": "markdown",
   "id": "exceptional-meeting",
   "metadata": {},
   "source": [
    "### Collecting Data"
   ]
  },
  {
   "cell_type": "markdown",
   "id": "accepted-detective",
   "metadata": {},
   "source": [
    "This cell pulls all JSON files from the NVD that we will be working with."
   ]
  },
  {
   "cell_type": "code",
   "execution_count": null,
   "id": "handled-indicator",
   "metadata": {
    "tags": []
   },
   "outputs": [],
   "source": [
    "%%capture\n",
    "!mkdir -p jsondata\n",
    "%cd jsondata\n",
    "!rm *.json \n",
    "!rm *.zip \n",
    "!wget https://nvd.nist.gov/feeds/json/cve/1.1/nvdcve-1.1-{2020..2021}.json.zip \n",
    "!unzip -o \"*.zip\" "
   ]
  },
  {
   "cell_type": "markdown",
   "id": "constitutional-genius",
   "metadata": {
    "tags": []
   },
   "source": [
    "### Import Python Libraries"
   ]
  },
  {
   "cell_type": "code",
   "execution_count": null,
   "id": "furnished-master",
   "metadata": {
    "tags": []
   },
   "outputs": [],
   "source": [
    "import calplot\n",
    "import glob\n",
    "import logging\n",
    "import json\n",
    "import matplotlib.pyplot as plt\n",
    "import missingno as msno\n",
    "import numpy as np\n",
    "import os\n",
    "import pandas as pd\n",
    "import re\n",
    "import uuid\n",
    "import warnings\n",
    "from datetime import datetime\n",
    "\n",
    "\n",
    "logging.getLogger('matplotlib.font_manager').disabled = True\n",
    "warnings.filterwarnings(\"ignore\")\n"
   ]
  },
  {
   "cell_type": "markdown",
   "id": "organic-sweet",
   "metadata": {},
   "source": [
    "# 2021 CVE Data"
   ]
  },
  {
   "cell_type": "markdown",
   "id": "hairy-pathology",
   "metadata": {
    "tags": []
   },
   "source": [
    "### Build Base DataFrame"
   ]
  },
  {
   "cell_type": "markdown",
   "id": "parliamentary-teaching",
   "metadata": {},
   "source": [
    "This code builds a Panda dataframe from the JSON files we downloaded, removing all CVE's marked rejected."
   ]
  },
  {
   "cell_type": "code",
   "execution_count": null,
   "id": "recreational-borough",
   "metadata": {
    "tags": []
   },
   "outputs": [],
   "source": [
    "row_accumulator = []\n",
    "for filename in glob.glob('nvdcve-1.1-2021.json'):\n",
    "    with open(filename, 'r', encoding='utf-8') as f:\n",
    "        nvd_data = json.load(f)\n",
    "        for entry in nvd_data['CVE_Items']:\n",
    "            cve = entry['cve']['CVE_data_meta']['ID']\n",
    "            try:\n",
    "                published_date = entry['publishedDate']\n",
    "            except KeyError:\n",
    "                published_date = 'Missing_Data_JG'\n",
    "            try:\n",
    "                attack_vector = entry['impact']['baseMetricV3']['cvssV3']['attackVector']\n",
    "            except KeyError:\n",
    "                attack_vector = 'Missing_Data_JG'\n",
    "            try:\n",
    "                attack_complexity = entry['impact']['baseMetricV3']['cvssV3']['attackComplexity']\n",
    "            except KeyError:\n",
    "                attack_complexity = 'Missing_Data_JG'\n",
    "            try:\n",
    "                privileges_required = entry['impact']['baseMetricV3']['cvssV3']['privilegesRequired']\n",
    "            except KeyError:\n",
    "                privileges_required = 'Missing_Data_JG'\n",
    "            try:\n",
    "                user_interaction = entry['impact']['baseMetricV3']['cvssV3']['userInteraction']\n",
    "            except KeyError:\n",
    "                user_interaction = 'Missing_Data_JG'\n",
    "            try:\n",
    "                scope = entry['impact']['baseMetricV3']['cvssV3']['scope']\n",
    "            except KeyError:\n",
    "                scope = 'Missing_Data_JG'\n",
    "            try:\n",
    "                confidentiality_impact = entry['impact']['baseMetricV3']['cvssV3']['confidentialityImpact']\n",
    "            except KeyError:\n",
    "                confidentiality_impact = 'Missing_Data_JG'\n",
    "            try:\n",
    "                integrity_impact = entry['impact']['baseMetricV3']['cvssV3']['integrityImpact']\n",
    "            except KeyError:\n",
    "                integrity_impact = 'Missing_Data_JG'\n",
    "            try:\n",
    "                availability_impact = entry['impact']['baseMetricV3']['cvssV3']['availabilityImpact']\n",
    "            except KeyError:\n",
    "                availability_impact = 'Missing_Data_JG'\n",
    "            try:\n",
    "                base_score = entry['impact']['baseMetricV3']['cvssV3']['baseScore']\n",
    "            except KeyError:\n",
    "                base_score = '0.0'\n",
    "            try:\n",
    "                base_severity = entry['impact']['baseMetricV3']['cvssV3']['baseSeverity']\n",
    "            except KeyError:\n",
    "                base_severity = 'Missing_Data_JG'\n",
    "            try:\n",
    "                exploitability_score = entry['impact']['baseMetricV3']['exploitabilityScore']\n",
    "            except KeyError:\n",
    "                exploitability_score = 'Missing_Data_JG'\n",
    "            try:\n",
    "                impact_score = entry['impact']['baseMetricV3']['impactScore']\n",
    "            except KeyError:\n",
    "                impact_score = 'Missing_Data_JG'\n",
    "            try:\n",
    "                cwe = entry['cve']['problemtype']['problemtype_data'][0]['description'][0]['value']\n",
    "            except IndexError:\n",
    "                cwe = 'Missing_Data_JG'\n",
    "            try:\n",
    "                description = entry['cve']['description']['description_data'][0]['value']\n",
    "            except IndexError:\n",
    "                description = ''\n",
    "            new_row = { \n",
    "                'CVE': cve, \n",
    "                'Published': published_date,\n",
    "                'AttackVector': attack_vector,\n",
    "                'AttackComplexity': attack_complexity,\n",
    "                'PrivilegesRequired': privileges_required,\n",
    "                'UserInteraction': user_interaction,\n",
    "                'Scope': scope,\n",
    "                'ConfidentialityImpact': confidentiality_impact,\n",
    "                'IntegrityImpact': integrity_impact,\n",
    "                'AvailabilityImpact': availability_impact,\n",
    "                'BaseScore': base_score,\n",
    "                'BaseSeverity': base_severity,\n",
    "                'ExploitabilityScore': exploitability_score,\n",
    "                'ImpactScore': impact_score,\n",
    "                'CWE': cwe,\n",
    "                'Description': description\n",
    "            }\n",
    "            if not description.startswith('**'): # disputed, rejected and other non issues start with '**'\n",
    "                row_accumulator.append(new_row)\n",
    "    nvd_2021 = pd.DataFrame(row_accumulator)\n",
    "    \n",
    "\n",
    "day_of_year = datetime.now().timetuple().tm_yday\n",
    "nvd_2021 = nvd_2021[(nvd_2021['Published'] > '2021-01-01') & (nvd_2021['Published'] < '2021-12-1')]\n",
    "nvd_2021['Published'] = pd.to_datetime(nvd_2021['Published']).apply(lambda x: x.date())\n",
    "print ('CVEs from NVD:', nvd_2021['CVE'].count())\n",
    "nvdcount = nvd_2021['Published'].count()\n",
    "per_day = nvdcount/day_of_year\n",
    "per_day = round(per_day, 0)\n",
    "print('CVEs Published Per Day:', per_day)"
   ]
  },
  {
   "cell_type": "markdown",
   "id": "frozen-coffee",
   "metadata": {},
   "source": [
    "### CVEs Per Day Graph"
   ]
  },
  {
   "cell_type": "code",
   "execution_count": null,
   "id": "outdoor-playlist",
   "metadata": {
    "tags": []
   },
   "outputs": [],
   "source": [
    "nvd_data_2021 = nvd_2021['Published'].value_counts()\n",
    "cg = nvd_data_2021.plot(colormap='jet', marker='.', figsize=(16, 8), markersize=2, title='CVEs Per Day')\n",
    "plt.grid()\n",
    "cg.set_ylabel(\"New CVEs\")\n",
    "cg.set_xlabel(\"Date\")\n",
    "plt.savefig('2021.jpg', dpi=300, bbox_inches='tight')"
   ]
  },
  {
   "cell_type": "markdown",
   "id": "suburban-avatar",
   "metadata": {},
   "source": [
    "### Most CVEs Per Day "
   ]
  },
  {
   "cell_type": "code",
   "execution_count": null,
   "id": "emerging-delhi",
   "metadata": {
    "tags": []
   },
   "outputs": [],
   "source": [
    "nvd_2021['Published'].value_counts().head(10)"
   ]
  },
  {
   "cell_type": "markdown",
   "id": "ahead-wednesday",
   "metadata": {},
   "source": [
    "# CVSS 3 Breakdown"
   ]
  },
  {
   "cell_type": "code",
   "execution_count": null,
   "id": "tender-spectrum",
   "metadata": {},
   "outputs": [],
   "source": [
    "nvd_2021['BaseScore'] = pd.to_numeric(nvd_2021['BaseScore']);\n",
    "nvd_2021['BaseScore'] = nvd_2021['BaseScore'].replace(0, np.NaN);\n",
    "nvd_2021['BaseScore'].plot(kind=\"hist\", title='CVSS Breakdown');\n",
    "plt.savefig('2021CVSS.jpg', dpi=300, bbox_inches='tight')"
   ]
  },
  {
   "cell_type": "markdown",
   "id": "express-exercise",
   "metadata": {},
   "source": [
    "Average CVSS Score:"
   ]
  },
  {
   "cell_type": "code",
   "execution_count": null,
   "id": "comparative-syracuse",
   "metadata": {},
   "outputs": [],
   "source": [
    "nvd_2021['BaseScore'].mean()"
   ]
  },
  {
   "cell_type": "markdown",
   "id": "handy-activity",
   "metadata": {},
   "source": [
    "# 2020 CVE Data"
   ]
  },
  {
   "cell_type": "markdown",
   "id": "italian-leather",
   "metadata": {
    "tags": []
   },
   "source": [
    "### Build Base DataFrame"
   ]
  },
  {
   "cell_type": "markdown",
   "id": "dependent-conducting",
   "metadata": {},
   "source": [
    "This code builds a Panda dataframe from the JSON files we downloaded, removing all CVE's marked rejected."
   ]
  },
  {
   "cell_type": "code",
   "execution_count": null,
   "id": "pending-chamber",
   "metadata": {
    "tags": []
   },
   "outputs": [],
   "source": [
    "row_accumulator = []\n",
    "for filename in glob.glob('nvdcve-1.1-2020.json'):\n",
    "    with open(filename, 'r', encoding='utf-8') as f:\n",
    "        nvd_data = json.load(f)\n",
    "        for entry in nvd_data['CVE_Items']:\n",
    "            cve = entry['cve']['CVE_data_meta']['ID']\n",
    "            try:\n",
    "                published_date = entry['publishedDate']\n",
    "            except KeyError:\n",
    "                published_date = 'Missing_Data_JG'\n",
    "            try:\n",
    "                attack_vector = entry['impact']['baseMetricV3']['cvssV3']['attackVector']\n",
    "            except KeyError:\n",
    "                attack_vector = 'Missing_Data_JG'\n",
    "            try:\n",
    "                attack_complexity = entry['impact']['baseMetricV3']['cvssV3']['attackComplexity']\n",
    "            except KeyError:\n",
    "                attack_complexity = 'Missing_Data_JG'\n",
    "            try:\n",
    "                privileges_required = entry['impact']['baseMetricV3']['cvssV3']['privilegesRequired']\n",
    "            except KeyError:\n",
    "                privileges_required = 'Missing_Data_JG'\n",
    "            try:\n",
    "                user_interaction = entry['impact']['baseMetricV3']['cvssV3']['userInteraction']\n",
    "            except KeyError:\n",
    "                user_interaction = 'Missing_Data_JG'\n",
    "            try:\n",
    "                scope = entry['impact']['baseMetricV3']['cvssV3']['scope']\n",
    "            except KeyError:\n",
    "                scope = 'Missing_Data_JG'\n",
    "            try:\n",
    "                confidentiality_impact = entry['impact']['baseMetricV3']['cvssV3']['confidentialityImpact']\n",
    "            except KeyError:\n",
    "                confidentiality_impact = 'Missing_Data_JG'\n",
    "            try:\n",
    "                integrity_impact = entry['impact']['baseMetricV3']['cvssV3']['integrityImpact']\n",
    "            except KeyError:\n",
    "                integrity_impact = 'Missing_Data_JG'\n",
    "            try:\n",
    "                availability_impact = entry['impact']['baseMetricV3']['cvssV3']['availabilityImpact']\n",
    "            except KeyError:\n",
    "                availability_impact = 'Missing_Data_JG'\n",
    "            try:\n",
    "                base_score = entry['impact']['baseMetricV3']['cvssV3']['baseScore']\n",
    "            except KeyError:\n",
    "                base_score = '0.0'\n",
    "            try:\n",
    "                base_severity = entry['impact']['baseMetricV3']['cvssV3']['baseSeverity']\n",
    "            except KeyError:\n",
    "                base_severity = 'Missing_Data_JG'\n",
    "            try:\n",
    "                exploitability_score = entry['impact']['baseMetricV3']['exploitabilityScore']\n",
    "            except KeyError:\n",
    "                exploitability_score = 'Missing_Data_JG'\n",
    "            try:\n",
    "                impact_score = entry['impact']['baseMetricV3']['impactScore']\n",
    "            except KeyError:\n",
    "                impact_score = 'Missing_Data_JG'\n",
    "            try:\n",
    "                cwe = entry['cve']['problemtype']['problemtype_data'][0]['description'][0]['value']\n",
    "            except IndexError:\n",
    "                cwe = 'Missing_Data_JG'\n",
    "            try:\n",
    "                description = entry['cve']['description']['description_data'][0]['value']\n",
    "            except IndexError:\n",
    "                description = ''\n",
    "            new_row = { \n",
    "                'CVE': cve, \n",
    "                'Published': published_date,\n",
    "                'AttackVector': attack_vector,\n",
    "                'AttackComplexity': attack_complexity,\n",
    "                'PrivilegesRequired': privileges_required,\n",
    "                'UserInteraction': user_interaction,\n",
    "                'Scope': scope,\n",
    "                'ConfidentialityImpact': confidentiality_impact,\n",
    "                'IntegrityImpact': integrity_impact,\n",
    "                'AvailabilityImpact': availability_impact,\n",
    "                'BaseScore': base_score,\n",
    "                'BaseSeverity': base_severity,\n",
    "                'ExploitabilityScore': exploitability_score,\n",
    "                'ImpactScore': impact_score,\n",
    "                'CWE': cwe,\n",
    "                'Description': description\n",
    "            }\n",
    "            if not description.startswith('** REJECT **'): # disputed, rejected and other non issues start with '**'\n",
    "                row_accumulator.append(new_row)\n",
    "    nvd_2020 = pd.DataFrame(row_accumulator)\n",
    "    \n",
    "\n",
    "nvd_2020 = nvd_2020[(nvd_2020['Published'] > '2020-01-01') & (nvd_2020['Published'] < '2020-12-01')]\n",
    "nvd_2020['Published'] = pd.to_datetime(nvd_2020['Published']).apply(lambda x: x.date())\n",
    "print ('CVEs from NVD:', nvd_2020['CVE'].count())\n",
    "nvdcount = nvd_2020['Published'].count()\n",
    "per_day = nvdcount/335\n",
    "per_day = round(per_day, 0)\n",
    "print('CVEs Published Per Day:', per_day)"
   ]
  },
  {
   "cell_type": "markdown",
   "id": "peripheral-prompt",
   "metadata": {},
   "source": [
    "### CVEs Per Day Graph"
   ]
  },
  {
   "cell_type": "code",
   "execution_count": null,
   "id": "protected-journey",
   "metadata": {
    "tags": []
   },
   "outputs": [],
   "source": [
    "nvd_data_2020 = nvd_2020['Published'].value_counts()\n",
    "cg = nvd_data_2020.plot(colormap='jet', marker='.', figsize=(16, 8), markersize=2, title='CVEs Per Day')\n",
    "plt.grid()\n",
    "cg.set_ylabel(\"New CVEs\");\n",
    "cg.set_xlabel(\"Date\");\n",
    "plt.savefig('2020.jpg', dpi=300, bbox_inches='tight')"
   ]
  },
  {
   "cell_type": "markdown",
   "id": "detailed-shark",
   "metadata": {},
   "source": [
    "### Most CVEs Per Day "
   ]
  },
  {
   "cell_type": "code",
   "execution_count": null,
   "id": "stopped-dayton",
   "metadata": {
    "tags": []
   },
   "outputs": [],
   "source": [
    "nvd_2020['Published'].value_counts().head(10)"
   ]
  },
  {
   "cell_type": "markdown",
   "id": "sealed-string",
   "metadata": {
    "tags": []
   },
   "source": [
    "### CVE Heat Map"
   ]
  },
  {
   "cell_type": "markdown",
   "id": "thick-stopping",
   "metadata": {},
   "source": [
    "# CVSS 3 Breakdown"
   ]
  },
  {
   "cell_type": "code",
   "execution_count": null,
   "id": "hungarian-catch",
   "metadata": {},
   "outputs": [],
   "source": [
    "nvd_2020['BaseScore'] = pd.to_numeric(nvd_2020['BaseScore']);\n",
    "nvd_2020['BaseScore'] = nvd_2020['BaseScore'].replace(0, np.NaN);\n",
    "nvd_2020['BaseScore'].plot(kind=\"hist\", title='CVSS Breakdown');\n",
    "plt.savefig('2020CVSS.jpg', dpi=300, bbox_inches='tight')"
   ]
  },
  {
   "cell_type": "markdown",
   "id": "discrete-stock",
   "metadata": {},
   "source": [
    "Average CVSS Score:"
   ]
  },
  {
   "cell_type": "code",
   "execution_count": null,
   "id": "competitive-importance",
   "metadata": {},
   "outputs": [],
   "source": [
    "nvd_2020['BaseScore'].mean()"
   ]
  }
 ],
 "metadata": {
  "kernelspec": {
   "display_name": "Python 3",
   "language": "python",
   "name": "python3"
  },
  "language_info": {
   "codemirror_mode": {
    "name": "ipython",
    "version": 3
   },
   "file_extension": ".py",
   "mimetype": "text/x-python",
   "name": "python",
   "nbconvert_exporter": "python",
   "pygments_lexer": "ipython3",
   "version": "3.7.3"
  }
 },
 "nbformat": 4,
 "nbformat_minor": 5
}
