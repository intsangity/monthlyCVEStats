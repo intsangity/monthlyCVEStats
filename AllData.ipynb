{
 "cells": [
  {
   "cell_type": "markdown",
   "id": "simple-organ",
   "metadata": {},
   "source": [
    "# CVE Data Review"
   ]
  },
  {
   "cell_type": "markdown",
   "id": "respiratory-listing",
   "metadata": {},
   "source": [
    "This notebook will pull all [JSON Data](https://nvd.nist.gov/vuln/data-feeds#JSON_FEED) from the NVD and performs some basic data analysis of CVEd data. "
   ]
  },
  {
   "cell_type": "markdown",
   "id": "indie-keyboard",
   "metadata": {},
   "source": [
    "## Getting Started"
   ]
  },
  {
   "cell_type": "markdown",
   "id": "political-disposition",
   "metadata": {},
   "source": [
    "### Collecting Data"
   ]
  },
  {
   "cell_type": "markdown",
   "id": "strategic-crest",
   "metadata": {},
   "source": [
    "This cell pulls all JSON files from the NVD that we will be working with."
   ]
  },
  {
   "cell_type": "code",
   "execution_count": 1,
   "id": "becoming-steal",
   "metadata": {
    "tags": []
   },
   "outputs": [],
   "source": [
    "%%capture\n",
    "!mkdir -p jsondata\n",
    "%cd jsondata\n",
    "!rm *.json \n",
    "!rm *.zip \n",
    "!wget https://nvd.nist.gov/feeds/json/cve/1.1/nvdcve-1.1-{2002..2021}.json.zip \n",
    "!unzip -o \"*.zip\" "
   ]
  },
  {
   "cell_type": "markdown",
   "id": "copyrighted-infrastructure",
   "metadata": {
    "tags": []
   },
   "source": [
    "### Import Python Libraries"
   ]
  },
  {
   "cell_type": "code",
   "execution_count": 2,
   "id": "front-nursery",
   "metadata": {
    "tags": []
   },
   "outputs": [],
   "source": [
    "import calplot\n",
    "import glob\n",
    "import logging\n",
    "import json\n",
    "import matplotlib.pyplot as plt\n",
    "import missingno as msno\n",
    "import numpy as np\n",
    "import os\n",
    "import pandas as pd\n",
    "import re\n",
    "import uuid\n",
    "import warnings\n",
    "from datetime import datetime\n",
    "\n",
    "\n",
    "logging.getLogger('matplotlib.font_manager').disabled = True\n",
    "warnings.filterwarnings(\"ignore\")\n"
   ]
  },
  {
   "cell_type": "markdown",
   "id": "analyzed-virus",
   "metadata": {},
   "source": [
    "# 2021 CVE Data"
   ]
  },
  {
   "cell_type": "markdown",
   "id": "sharp-contents",
   "metadata": {
    "tags": []
   },
   "source": [
    "### Build Base DataFrame"
   ]
  },
  {
   "cell_type": "markdown",
   "id": "joint-pickup",
   "metadata": {},
   "source": [
    "This code builds a Panda dataframe from the JSON files we downloaded, removing all CVE's marked rejected."
   ]
  },
  {
   "cell_type": "code",
   "execution_count": 3,
   "id": "systematic-phase",
   "metadata": {
    "tags": []
   },
   "outputs": [
    {
     "name": "stdout",
     "output_type": "stream",
     "text": [
      "CVEs from NVD: 159695\n"
     ]
    }
   ],
   "source": [
    "row_accumulator = []\n",
    "for filename in glob.glob('nvdcve-1.1-*.json'):\n",
    "    with open(filename, 'r', encoding='utf-8') as f:\n",
    "        nvd_data = json.load(f)\n",
    "        for entry in nvd_data['CVE_Items']:\n",
    "            cve = entry['cve']['CVE_data_meta']['ID']\n",
    "            try:\n",
    "                published_date = entry['publishedDate']\n",
    "            except KeyError:\n",
    "                published_date = 'Missing_Data_JG'\n",
    "            try:\n",
    "                attack_vector = entry['impact']['baseMetricV3']['cvssV3']['attackVector']\n",
    "            except KeyError:\n",
    "                attack_vector = 'Missing_Data_JG'\n",
    "            try:\n",
    "                attack_complexity = entry['impact']['baseMetricV3']['cvssV3']['attackComplexity']\n",
    "            except KeyError:\n",
    "                attack_complexity = 'Missing_Data_JG'\n",
    "            try:\n",
    "                privileges_required = entry['impact']['baseMetricV3']['cvssV3']['privilegesRequired']\n",
    "            except KeyError:\n",
    "                privileges_required = 'Missing_Data_JG'\n",
    "            try:\n",
    "                user_interaction = entry['impact']['baseMetricV3']['cvssV3']['userInteraction']\n",
    "            except KeyError:\n",
    "                user_interaction = 'Missing_Data_JG'\n",
    "            try:\n",
    "                scope = entry['impact']['baseMetricV3']['cvssV3']['scope']\n",
    "            except KeyError:\n",
    "                scope = 'Missing_Data_JG'\n",
    "            try:\n",
    "                confidentiality_impact = entry['impact']['baseMetricV3']['cvssV3']['confidentialityImpact']\n",
    "            except KeyError:\n",
    "                confidentiality_impact = 'Missing_Data_JG'\n",
    "            try:\n",
    "                integrity_impact = entry['impact']['baseMetricV3']['cvssV3']['integrityImpact']\n",
    "            except KeyError:\n",
    "                integrity_impact = 'Missing_Data_JG'\n",
    "            try:\n",
    "                availability_impact = entry['impact']['baseMetricV3']['cvssV3']['availabilityImpact']\n",
    "            except KeyError:\n",
    "                availability_impact = 'Missing_Data_JG'\n",
    "            try:\n",
    "                base_score = entry['impact']['baseMetricV3']['cvssV3']['baseScore']\n",
    "            except KeyError:\n",
    "                base_score = '0.0'\n",
    "            try:\n",
    "                base_severity = entry['impact']['baseMetricV3']['cvssV3']['baseSeverity']\n",
    "            except KeyError:\n",
    "                base_severity = 'Missing_Data_JG'\n",
    "            try:\n",
    "                exploitability_score = entry['impact']['baseMetricV3']['exploitabilityScore']\n",
    "            except KeyError:\n",
    "                exploitability_score = 'Missing_Data_JG'\n",
    "            try:\n",
    "                impact_score = entry['impact']['baseMetricV3']['impactScore']\n",
    "            except KeyError:\n",
    "                impact_score = 'Missing_Data_JG'\n",
    "            try:\n",
    "                cwe = entry['cve']['problemtype']['problemtype_data'][0]['description'][0]['value']\n",
    "            except IndexError:\n",
    "                cwe = 'Missing_Data_JG'\n",
    "            try:\n",
    "                description = entry['cve']['description']['description_data'][0]['value']\n",
    "            except IndexError:\n",
    "                description = ''\n",
    "            new_row = { \n",
    "                'CVE': cve, \n",
    "                'Published': published_date,\n",
    "                'AttackVector': attack_vector,\n",
    "                'AttackComplexity': attack_complexity,\n",
    "                'PrivilegesRequired': privileges_required,\n",
    "                'UserInteraction': user_interaction,\n",
    "                'Scope': scope,\n",
    "                'ConfidentialityImpact': confidentiality_impact,\n",
    "                'IntegrityImpact': integrity_impact,\n",
    "                'AvailabilityImpact': availability_impact,\n",
    "                'BaseScore': base_score,\n",
    "                'BaseSeverity': base_severity,\n",
    "                'ExploitabilityScore': exploitability_score,\n",
    "                'ImpactScore': impact_score,\n",
    "                'CWE': cwe,\n",
    "                'Description': description\n",
    "            }\n",
    "            if not description.startswith('** REJECT **'): # disputed, rejected and other non issues start with '**'\n",
    "                row_accumulator.append(new_row)\n",
    "    nvd = pd.DataFrame(row_accumulator)\n",
    "    \n",
    "\n",
    "\n",
    "nvd['Published'] = pd.to_datetime(nvd['Published']).apply(lambda x: x.date())\n",
    "print ('CVEs from NVD:', nvd['CVE'].count())\n",
    "nvdcount = nvd['Published'].count()"
   ]
  },
  {
   "cell_type": "markdown",
   "id": "legendary-rocket",
   "metadata": {},
   "source": [
    "### CVEs Per Day Graph"
   ]
  },
  {
   "cell_type": "code",
   "execution_count": 4,
   "id": "romantic-transcript",
   "metadata": {
    "tags": []
   },
   "outputs": [
    {
     "data": {
      "image/png": "[encoded data removed]",
      "text/plain": [
       "<Figure size 1152x576 with 1 Axes>"
      ]
     },
     "metadata": {
      "needs_background": "light"
     },
     "output_type": "display_data"
    }
   ],
   "source": [
    "nvd_data = nvd['Published'].value_counts()\n",
    "cg = nvd_data.plot(colormap='jet', marker='.', figsize=(16, 8), markersize=2, title='CVEs Per Day')\n",
    "plt.grid()\n",
    "cg.set_ylabel(\"New CVEs\")\n",
    "cg.set_xlabel(\"Date\")\n",
    "plt.savefig('2021.jpg', dpi=300, bbox_inches='tight')"
   ]
  },
  {
   "cell_type": "markdown",
   "id": "separate-australia",
   "metadata": {},
   "source": [
    "### Most CVEs Per Day "
   ]
  },
  {
   "cell_type": "code",
   "execution_count": 5,
   "id": "eight-zimbabwe",
   "metadata": {
    "tags": []
   },
   "outputs": [
    {
     "data": {
      "text/plain": [
       "2004-12-31    1098\n",
       "2005-05-02     816\n",
       "2002-12-31     791\n",
       "2020-04-15     508\n",
       "2003-12-31     441\n",
       "2018-07-09     431\n",
       "2005-12-31     384\n",
       "2019-12-18     364\n",
       "2018-06-11     349\n",
       "2018-02-15     340\n",
       "Name: Published, dtype: int64"
      ]
     },
     "execution_count": 5,
     "metadata": {},
     "output_type": "execute_result"
    }
   ],
   "source": [
    "nvd['Published'].value_counts().head(10)"
   ]
  },
  {
   "cell_type": "markdown",
   "id": "organizational-angel",
   "metadata": {},
   "source": [
    "# CVSS 3 Breakdown"
   ]
  },
  {
   "cell_type": "code",
   "execution_count": 6,
   "id": "healthy-secondary",
   "metadata": {},
   "outputs": [
    {
     "data": {
      "image/png": "[encoded data removed]",
      "text/plain": [
       "<Figure size 432x288 with 1 Axes>"
      ]
     },
     "metadata": {
      "needs_background": "light"
     },
     "output_type": "display_data"
    }
   ],
   "source": [
    "nvd['BaseScore'] = pd.to_numeric(nvd['BaseScore']);\n",
    "nvd['BaseScore'] = nvd['BaseScore'].replace(0, np.NaN);\n",
    "nvd['BaseScore'].plot(kind=\"hist\", title='CVSS Breakdown');\n",
    "plt.savefig('2021CVSS.jpg', dpi=300, bbox_inches='tight')"
   ]
  },
  {
   "cell_type": "markdown",
   "id": "organizational-innocent",
   "metadata": {},
   "source": [
    "Average CVSS Score:"
   ]
  },
  {
   "cell_type": "code",
   "execution_count": 7,
   "id": "portuguese-angola",
   "metadata": {},
   "outputs": [
    {
     "data": {
      "text/plain": [
       "7.225129527659673"
      ]
     },
     "execution_count": 7,
     "metadata": {},
     "output_type": "execute_result"
    }
   ],
   "source": [
    "nvd['BaseScore'].mean()"
   ]
  }
 ],
 "metadata": {
  "kernelspec": {
   "display_name": "Python 3",
   "language": "python",
   "name": "python3"
  },
  "language_info": {
   "codemirror_mode": {
    "name": "ipython",
    "version": 3
   },
   "file_extension": ".py",
   "mimetype": "text/x-python",
   "name": "python",
   "nbconvert_exporter": "python",
   "pygments_lexer": "ipython3",
   "version": "3.7.3"
  }
 },
 "nbformat": 4,
 "nbformat_minor": 5
}
